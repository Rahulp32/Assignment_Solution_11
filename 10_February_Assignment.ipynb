{
 "cells": [
  {
   "cell_type": "markdown",
   "id": "9aae292e-b901-411e-b898-f834b94c6d1e",
   "metadata": {},
   "source": [
    "# 10_February_11th_Assignment"
   ]
  },
  {
   "cell_type": "code",
   "execution_count": null,
   "id": "e60b96ed-a09c-46a2-b6f6-40d40ffb8f7e",
   "metadata": {},
   "outputs": [],
   "source": []
  },
  {
   "cell_type": "markdown",
   "id": "98739f32-41b8-45ca-98a8-f150a5a5a1e7",
   "metadata": {},
   "source": [
    "## Q1. Which function is used to open a file? What are the different modes of opening a file? Explain each mode of file opening."
   ]
  },
  {
   "cell_type": "markdown",
   "id": "90dc06ab-ba03-4ee3-b2cf-f26d5c695408",
   "metadata": {},
   "source": [
    "### In Python, the open() function is used to open a file. It provides access to files for reading, writing, or both, depending on the mode specified.\n",
    "### Different Modes of Opening a File :\n",
    "\n",
    "### The open() function supports several modes, specified using a string argument. Each mode determines the type of access allowed for the file."
   ]
  },
  {
   "cell_type": "markdown",
   "id": "f6fee4a1-de74-4b07-b82a-b506e112da18",
   "metadata": {},
   "source": [
    "\n",
    "\n",
    "| **Mode** | **Description**                                                                                                  |\n",
    "|----------|------------------------------------------------------------------------------------------------------------------|\n",
    "| `r`      | Opens the file for **reading**. File must exist, otherwise raises an error.                                      |\n",
    "| `w`      | Opens the file for **writing**. Creates a new file if it doesn't exist, or truncates (overwrites) it if it does. |\n",
    "| `x`      | Opens the file for **exclusive creation**. Raises an error if the file already exists.                           |\n",
    "| `a`      | Opens the file for **appending**. Adds new content to the end of the file. Creates the file if it doesn't exist. |\n",
    "| `b`      | Opens the file in **binary mode**. Used in combination with other modes (e.g., `rb`, `wb`).                      |\n",
    "| `t`      | Opens the file in **text mode** (default). Used in combination with other modes.                                 |\n",
    "| `+`      | Opens the file for **updating** (reading and writing). Used in combination with other modes (e.g., `r+`, `w+`).  |\n",
    "\n",
    "---\n",
    "\n"
   ]
  },
  {
   "cell_type": "markdown",
   "id": "4a54edf2-1b80-4d19-8ffc-eda29d640e1e",
   "metadata": {},
   "source": [
    "### Explanation of Each Mode\n",
    "\n",
    "### (1). r (Read Mode)\n",
    "       * Opens the file for reading only.\n",
    "       * The file pointer is placed at the beginning of the file.\n",
    "       * If the file does not exist, a FileNotFoundError is raised.\n",
    "#### Example:"
   ]
  },
  {
   "cell_type": "code",
   "execution_count": 17,
   "id": "19bbf03d-29c2-4e86-959e-6028ed64a751",
   "metadata": {},
   "outputs": [],
   "source": [
    "file = open(\"example.txt\", \"r\")\n",
    "content = file.read()\n",
    "file.close()\n"
   ]
  },
  {
   "cell_type": "markdown",
   "id": "c02189d9-af64-4311-8d97-9db0b72b8bb7",
   "metadata": {},
   "source": [
    "### (2). w (Write Mode)\n",
    "\n",
    "    * Opens the file for writing only.\n",
    "    * If the file exists, it is truncated to zero length (content erased).\n",
    "    * If the file does not exist, a new file is created.\n",
    "    \n",
    "#### Example:"
   ]
  },
  {
   "cell_type": "code",
   "execution_count": 15,
   "id": "b94a2f68-44c3-436f-9d33-2af2e6c4cacd",
   "metadata": {},
   "outputs": [],
   "source": [
    "file = open(\"example.txt\", \"w\")\n",
    "file.write(\"Hello, World!\")\n",
    "file.close()\n"
   ]
  },
  {
   "cell_type": "markdown",
   "id": "4a674afe-c546-40d8-b155-cd474bf880d0",
   "metadata": {},
   "source": [
    "### (3). x (Exclusive Creation Mode)\n",
    "\n",
    "    * Opens the file for exclusive creation.\n",
    "    * If the file already exists, a FileExistsError is raised. \n",
    "#### Example:"
   ]
  },
  {
   "cell_type": "code",
   "execution_count": 20,
   "id": "6558b933-2794-4ff6-a2a9-16833e54731f",
   "metadata": {},
   "outputs": [],
   "source": [
    "file = open(\"newfile.txt\", \"x\")\n",
    "file.write(\"This is a new file.\")\n",
    "file.close()\n"
   ]
  },
  {
   "cell_type": "markdown",
   "id": "43f3071e-b6b6-4279-a563-715e8c17faea",
   "metadata": {},
   "source": [
    "### (4). a (Append Mode)\n",
    "\n",
    "    * Opens the file for appending content to the end.\n",
    "    * The file pointer is placed at the end of the file.\n",
    "    * If the file does not exist, a new file is created.\n",
    "#### Example:"
   ]
  },
  {
   "cell_type": "code",
   "execution_count": 25,
   "id": "dec51fd7-1d72-4fc8-b268-dc59dfee9325",
   "metadata": {},
   "outputs": [],
   "source": [
    "file = open(\"example.txt\", \"a\")\n",
    "file.write(\"\\nAdding new content.\")\n",
    "file.close()\n"
   ]
  },
  {
   "cell_type": "markdown",
   "id": "01681c3e-94b9-486b-8c41-f490c238148d",
   "metadata": {},
   "source": [
    "### (5). b (Binary Mode)\n",
    "\n",
    "    * Used for handling binary files (e.g., images, videos).\n",
    "    * Used with r, w, a, or +.\n",
    "#### Example (reading a binary file):"
   ]
  },
  {
   "cell_type": "code",
   "execution_count": 30,
   "id": "73e83224-efce-47da-92f7-8be2a7036f5b",
   "metadata": {},
   "outputs": [],
   "source": [
    "file = open(\"image.jpg\", \"rb\")\n",
    "content = file.read()\n",
    "file.close()\n"
   ]
  },
  {
   "cell_type": "markdown",
   "id": "1e8f1ed5-a43e-4065-b2ee-5e7ad12be1c0",
   "metadata": {},
   "source": [
    "### (6). t (Text Mode)\n",
    "\n",
    "    * Opens the file in text mode (default mode).\n",
    "    * Used with r, w, a, or +. \n",
    "#### Example (default mode):"
   ]
  },
  {
   "cell_type": "code",
   "execution_count": 33,
   "id": "cb75659b-22ca-4174-83bb-d3b88ce0452a",
   "metadata": {},
   "outputs": [],
   "source": [
    "file = open(\"example.txt\", \"r\")  # Same as \"rt\"\n",
    "content = file.read()\n",
    "file.close()\n"
   ]
  },
  {
   "cell_type": "markdown",
   "id": "9230028d-a995-46b2-ad03-5dc992a57a84",
   "metadata": {},
   "source": [
    "### (7). + (Read/Write Mode)\n",
    "\n",
    "    * Opens the file for both reading and writing.\n",
    "    * Used with r, w, or a:\n",
    "        r+: Read and write. File must exist.\n",
    "        w+: Write and read. File is truncated if it exists.\n",
    "        a+: Append and read. New content is added at the end.\n",
    "#### Example:"
   ]
  },
  {
   "cell_type": "code",
   "execution_count": 36,
   "id": "464fd173-bacd-4aab-99ad-db090bf55061",
   "metadata": {},
   "outputs": [],
   "source": [
    "file = open(\"example.txt\", \"r+\")\n",
    "file.write(\"Overwriting content\")\n",
    "file.close()\n"
   ]
  },
  {
   "cell_type": "code",
   "execution_count": null,
   "id": "a99e37fb-a09b-4f90-bbed-d8fced815828",
   "metadata": {},
   "outputs": [],
   "source": []
  },
  {
   "cell_type": "markdown",
   "id": "d32c782b-15a0-46be-85c2-5d8e6b5e82a2",
   "metadata": {},
   "source": [
    "### Q2. Why close() function is used? Why is it important to close a file?"
   ]
  },
  {
   "cell_type": "markdown",
   "id": "498d4b19-7eec-40f6-a902-4dd93d182136",
   "metadata": {},
   "source": [
    "### The close() function is used to close an open file in Python. Once a file is closed, it frees up the system resources associated with it and ensures that any changes made to the file are properly saved to disk.\n",
    "### Why is it important to close a file?\n",
    "\n",
    "    (1). Freeing Resources:\n",
    "        Each open file consumes system resources (e.g., file descriptors).\n",
    "        Failing to close files can lead to resource leaks, especially in programs that open many files.\n",
    "\n",
    "    (2). Ensuring Data Integrity:\n",
    "        When you write data to a file, it may be temporarily stored in a buffer.\n",
    "        Closing the file ensures that all buffered data is properly written to disk and prevents data loss or corruption.\n",
    "\n",
    "    (3). Allowing Other Programs/Processes Access:\n",
    "        Some operating systems lock a file while it is open. Closing the file releases the lock, making it accessible to other programs or processes.\n",
    "\n",
    "    (4). Preventing Errors in Long-Running Programs:\n",
    "        In long-running scripts or applications, leaving files open can exhaust the file handle limit imposed by the operating system, leading to errors.\n",
    "\n",
    "\n",
    "#### Example:"
   ]
  },
  {
   "cell_type": "code",
   "execution_count": 42,
   "id": "fe5af3d7-b361-44bc-9723-5c97c029c4e3",
   "metadata": {},
   "outputs": [],
   "source": [
    "# Opening a file for writing\n",
    "file = open(\"example.txt\", \"w\")\n",
    "file.write(\"Hello, World!\")\n",
    "\n",
    "# Closing the file\n",
    "file.close()\n"
   ]
  },
  {
   "cell_type": "markdown",
   "id": "bffd5987-6c1b-449a-bb1c-684ee476622e",
   "metadata": {},
   "source": [
    "### Using 'with' Statement for Automatic File Closing\n",
    "\n",
    "#### Python provides a better way to manage files using the with statement. It automatically closes the file after the block of code is executed, even if an exception occurs.\n",
    "#### Example:"
   ]
  },
  {
   "cell_type": "code",
   "execution_count": 45,
   "id": "e3952710-7f7f-4251-a228-411293053f9a",
   "metadata": {},
   "outputs": [],
   "source": [
    "# Using 'with' to handle a file\n",
    "with open(\"example.txt\", \"w\") as file:\n",
    "    file.write(\"Hello, World!\")\n",
    "\n",
    "# No need to call file.close() explicitly; it's handled automatically\n"
   ]
  },
  {
   "cell_type": "code",
   "execution_count": null,
   "id": "58f3bb10-a26c-4589-b156-8924e7ed3ffe",
   "metadata": {},
   "outputs": [],
   "source": []
  },
  {
   "cell_type": "markdown",
   "id": "1fae21e7-07e2-4c5f-aa56-2744757070d0",
   "metadata": {},
   "source": [
    "### Q3. Write a python program to create a text file. Write ‘I want to become a Data Scientist’ in that file. Then close the file. Open this file and read the content of the file."
   ]
  },
  {
   "cell_type": "code",
   "execution_count": 51,
   "id": "dcdea29e-b8e9-45da-a2cb-292390e51a4c",
   "metadata": {},
   "outputs": [
    {
     "name": "stdout",
     "output_type": "stream",
     "text": [
      "I want to become a Data Scientist\n"
     ]
    }
   ],
   "source": [
    "# Step 1: Create a text file and write content to it\n",
    "file = open(\"data_scientist.txt\", \"w\")\n",
    "file.write(\"I want to become a Data Scientist\")\n",
    "file.close()  # Explicitly closing the file\n",
    "\n",
    "# Step 2: Open the file and read the content\n",
    "file = open(\"data_scientist.txt\", \"r\")\n",
    "content = file.read()\n",
    "file.close()  # Explicitly closing the file\n",
    "\n",
    "# Step 3: Print the content of the file\n",
    "print(content)\n"
   ]
  },
  {
   "cell_type": "code",
   "execution_count": null,
   "id": "df8a78f2-080b-423d-9a0e-9695112108fa",
   "metadata": {},
   "outputs": [],
   "source": []
  },
  {
   "cell_type": "markdown",
   "id": "cf2c941e-4eb8-438e-bd93-a2db20e67835",
   "metadata": {},
   "source": [
    "### Q4. Explain the following with python code: read(), readline() and readlines()."
   ]
  },
  {
   "cell_type": "markdown",
   "id": "020c74b9-ea3b-4479-b5a9-2dd614bbce32",
   "metadata": {},
   "source": [
    "### These are Python file methods used for reading the content of a file.\n",
    "#### 1. read()\n",
    "\n",
    "    * Reads the entire content of the file as a single string.\n",
    "    * You can also specify the number of characters to read.\n",
    "\n",
    "#### Example:"
   ]
  },
  {
   "cell_type": "code",
   "execution_count": 57,
   "id": "88d7a5f0-a29d-4c1c-8b3d-e9cd2636887a",
   "metadata": {},
   "outputs": [
    {
     "name": "stdout",
     "output_type": "stream",
     "text": [
      "Line 1\n",
      "Line 2\n",
      "Line 3\n"
     ]
    }
   ],
   "source": [
    "with open(\"example.txt\", \"w\") as file:\n",
    "    file.write(\"Line 1\\nLine 2\\nLine 3\")\n",
    "\n",
    "with open(\"example.txt\", \"r\") as file:\n",
    "    content = file.read()  # Reads the entire file\n",
    "    print(content)\n"
   ]
  },
  {
   "cell_type": "markdown",
   "id": "0e4b59ed-d64e-434b-86f9-fc3addc06eb8",
   "metadata": {},
   "source": [
    "#### 2. readline()\n",
    "\n",
    "    * Reads one line at a time from the file.\n",
    "    * Moves the file pointer to the next line after reading.\n",
    "\n",
    "#### Example:"
   ]
  },
  {
   "cell_type": "code",
   "execution_count": 60,
   "id": "687d2e13-2d2d-435a-a957-0c3fb7f9e1a8",
   "metadata": {},
   "outputs": [
    {
     "name": "stdout",
     "output_type": "stream",
     "text": [
      "Line 1\n"
     ]
    }
   ],
   "source": [
    "with open(\"example.txt\", \"r\") as file:\n",
    "    line = file.readline()  # Reads the first line\n",
    "    print(line.strip())     # Strip removes extra whitespace like \\n\n"
   ]
  },
  {
   "cell_type": "markdown",
   "id": "f306738c-60d5-4b04-9f98-cedf9d79d979",
   "metadata": {},
   "source": [
    "#### 3. readlines()\n",
    "\n",
    "    * Reads all lines of the file and returns them as a list of strings.\n",
    "    * Each line in the list includes a newline character (\\n) unless stripped.\n",
    "\n",
    "#### Example:"
   ]
  },
  {
   "cell_type": "code",
   "execution_count": 63,
   "id": "9a3692b9-76a3-4509-a274-20440c7c2549",
   "metadata": {},
   "outputs": [
    {
     "name": "stdout",
     "output_type": "stream",
     "text": [
      "['Line 1\\n', 'Line 2\\n', 'Line 3']\n"
     ]
    }
   ],
   "source": [
    "with open(\"example.txt\", \"r\") as file:\n",
    "    lines = file.readlines()  # Reads all lines into a list\n",
    "    print(lines)\n"
   ]
  },
  {
   "cell_type": "markdown",
   "id": "da055297-d042-4022-9131-403d17e7d2f9",
   "metadata": {},
   "source": [
    "\n",
    "---\n",
    "\n",
    "### **Comparison of Methods**\n",
    "\n",
    "| **Method**    | **Description**                                            | **Use Case**                              |\n",
    "|---------------|------------------------------------------------------------|-------------------------------------------|\n",
    "| `read()`      | Reads the entire file as a single string.                  | When you need all content at once.        |\n",
    "| `readline()`  | Reads one line at a time. Returns a string.                | When you process the file line-by-line.   |\n",
    "| `readlines()` | Reads all lines into a list. Each line is a string.        | When you need to work with all lines.     |\n",
    "\n"
   ]
  },
  {
   "cell_type": "markdown",
   "id": "f6853148-50a2-4c0e-bf64-83a0acec850c",
   "metadata": {},
   "source": [
    "#### Example Comparing All Three:"
   ]
  },
  {
   "cell_type": "code",
   "execution_count": 67,
   "id": "732cc908-62cd-4608-b4de-39516aac113a",
   "metadata": {},
   "outputs": [
    {
     "name": "stdout",
     "output_type": "stream",
     "text": [
      "Using read():\n",
      "Line 1\n",
      "Line 2\n",
      "Line 3\n",
      "\n",
      "Using readline():\n",
      "Line 1\n",
      "\n",
      "Line 2\n",
      "\n",
      "\n",
      "Using readlines():\n",
      "['Line 1\\n', 'Line 2\\n', 'Line 3']\n"
     ]
    }
   ],
   "source": [
    "with open(\"example.txt\", \"r\") as file:\n",
    "    print(\"Using read():\")\n",
    "    print(file.read())  # Reads the entire file content\n",
    "\n",
    "with open(\"example.txt\", \"r\") as file:\n",
    "    print(\"\\nUsing readline():\")\n",
    "    print(file.readline())  # Reads the first line\n",
    "    print(file.readline())  # Reads the second line\n",
    "\n",
    "with open(\"example.txt\", \"r\") as file:\n",
    "    print(\"\\nUsing readlines():\")\n",
    "    print(file.readlines())  # Reads all lines as a list\n"
   ]
  },
  {
   "cell_type": "code",
   "execution_count": null,
   "id": "8414aeaf-38ea-4dc0-8f6e-ff604b10a137",
   "metadata": {},
   "outputs": [],
   "source": []
  },
  {
   "cell_type": "markdown",
   "id": "2f81eeb8-fef1-4632-8447-f61c677622bd",
   "metadata": {},
   "source": [
    "### Q5. Explain why with statement is used with open(). What is the advantage of using with statement and open() together?"
   ]
  },
  {
   "cell_type": "markdown",
   "id": "8fa8efcf-3d5f-49ec-bd24-e8b37c206e98",
   "metadata": {},
   "source": [
    "### The with statement in Python is used to automatically manage resources, such as file handling. When combined with open(), it ensures that the file is properly closed after its operations are completed, even if an exception occurs during the process.\n",
    "### Advantages of Using with and open() Together\n",
    "\n",
    "    (1). Automatic File Closing:\n",
    "        The file is automatically closed after the code block is executed, regardless of whether an exception occurred. This avoids the need to explicitly call close().\n",
    "\n",
    "    (2). Simpler and Cleaner Syntax:\n",
    "        Eliminates the need to write boilerplate code for opening and closing files.\n",
    "\n",
    "    (3). Prevents Resource Leaks:\n",
    "        Ensures that system resources (like file handles) are released properly, avoiding potential issues in larger programs.\n",
    "\n",
    "    (4). Exception Handling:\n",
    "        Ensures that the file is closed even if an error occurs during file operations.\n",
    "\n",
    "#### Example: Without with Statement"
   ]
  },
  {
   "cell_type": "code",
   "execution_count": 72,
   "id": "b2796181-fead-4f7a-b991-cfeae5f4fd84",
   "metadata": {},
   "outputs": [],
   "source": [
    "file = open(\"example.txt\", \"w\")\n",
    "file.write(\"Hello, World!\")\n",
    "file.close()  # Must remember to close the file manually\n"
   ]
  },
  {
   "cell_type": "markdown",
   "id": "c63f01cb-8a69-4102-a9fd-2bb320579c5f",
   "metadata": {},
   "source": [
    "#### If we forget to call close(), the file may remain open, leading to resource leaks."
   ]
  },
  {
   "cell_type": "markdown",
   "id": "d9474ff5-2023-4590-bbff-45c7000cd0ed",
   "metadata": {},
   "source": [
    "#### Example: With with Statement"
   ]
  },
  {
   "cell_type": "code",
   "execution_count": 86,
   "id": "ba617003-daeb-4424-bad9-40f22f18249d",
   "metadata": {},
   "outputs": [
    {
     "name": "stdout",
     "output_type": "stream",
     "text": [
      "Hello, World!\n"
     ]
    }
   ],
   "source": [
    "with open(\"example.txt\", \"w\") as file:\n",
    "    file.write(\"Hello, World!\")  # File is automatically closed after the block\n",
    "\n",
    "with open(\"example.txt\", \"r\") as file:\n",
    "    content = file.read()  # Reads the entire file\n",
    "    print(content)"
   ]
  },
  {
   "cell_type": "code",
   "execution_count": null,
   "id": "c5ec69ef-8253-4b13-96f1-7004a63af7e8",
   "metadata": {},
   "outputs": [],
   "source": []
  },
  {
   "cell_type": "markdown",
   "id": "dd384d99-debb-4a45-8d1d-19c7861a793d",
   "metadata": {},
   "source": [
    "### Q6. Explain the write() and writelines() functions. Give a suitable example."
   ]
  },
  {
   "cell_type": "markdown",
   "id": "e4e41440-bad6-423c-aef6-0d6d6fe186de",
   "metadata": {},
   "source": [
    "### Both write() and writelines() are used to write data to a file, but they differ in how they handle the input.\n",
    "#### 1. write()\n",
    "\n",
    "    * Writes a single string to the file.\n",
    "    * Requires manual handling of newline characters (\\n) if needed.\n",
    "\n",
    "#### Example:"
   ]
  },
  {
   "cell_type": "code",
   "execution_count": 90,
   "id": "0bd54c61-59a1-46ec-8494-8a457d6cecd3",
   "metadata": {},
   "outputs": [
    {
     "name": "stdout",
     "output_type": "stream",
     "text": [
      "Hello, World!\n",
      "This is a new line.\n",
      "\n"
     ]
    }
   ],
   "source": [
    "with open(\"example.txt\", \"w\") as file:\n",
    "    file.write(\"Hello, World!\\n\")\n",
    "    file.write(\"This is a new line.\\n\")\n",
    "\n",
    "with open(\"example.txt\", \"r\") as file:\n",
    "    content = file.read()  # Reads the entire file\n",
    "    print(content)"
   ]
  },
  {
   "cell_type": "markdown",
   "id": "5bf38ee8-3c84-4f8f-bf58-82cef8892a49",
   "metadata": {},
   "source": [
    "### 2. writelines()\n",
    "\n",
    "    * Writes a list of strings to the file.\n",
    "    * Does not automatically add newline characters; you must include them in each string.\n",
    "\n",
    "#### Example:"
   ]
  },
  {
   "cell_type": "code",
   "execution_count": 88,
   "id": "353b0b5f-f7b6-4c6a-8095-83188c288d06",
   "metadata": {},
   "outputs": [
    {
     "name": "stdout",
     "output_type": "stream",
     "text": [
      "Line 1\n",
      "Line 2\n",
      "Line 3\n",
      "\n"
     ]
    }
   ],
   "source": [
    "lines = [\"Line 1\\n\", \"Line 2\\n\", \"Line 3\\n\"]\n",
    "with open(\"example.txt\", \"w\") as file:\n",
    "    file.writelines(lines)\n",
    "\n",
    "with open(\"example.txt\", \"r\") as file:\n",
    "    content = file.read()  # Reads the entire file\n",
    "    print(content)"
   ]
  },
  {
   "cell_type": "markdown",
   "id": "f7eddaca-8d1c-40d0-bc6f-14494f17d414",
   "metadata": {},
   "source": [
    "\n",
    "---\n",
    "\n",
    "### **Comparison of `write()` and `writelines()`**\n",
    "\n",
    "| **Function**  | **Description**                           | **Input**                     | **Use Case**                  |\n",
    "|---------------|-------------------------------------------|-------------------------------|--------------------------------|\n",
    "| `write()`     | Writes a single string to the file.       | Single string (e.g., `\"text\"`)| Writing small text content.   |\n",
    "| `writelines()`| Writes a list of strings to the file.     | List of strings (e.g., `[\"Line 1\\n\", \"Line 2\\n\"]`) | Writing multiple lines at once.|\n",
    "\n",
    "---\n",
    "\n"
   ]
  },
  {
   "cell_type": "markdown",
   "id": "2ca8a084-5b0d-4b0f-9cda-31bb8a714001",
   "metadata": {},
   "source": [
    "#### Example Demonstrating Both"
   ]
  },
  {
   "cell_type": "code",
   "execution_count": 94,
   "id": "578fce04-2c44-4707-8697-30830075ccbc",
   "metadata": {},
   "outputs": [],
   "source": [
    "# Using write()\n",
    "with open(\"example1.txt\", \"w\") as file:\n",
    "    file.write(\"This is written using write().\\n\")\n",
    "    file.write(\"Each call to write() adds content.\\n\")\n",
    "\n",
    "# Using writelines()\n",
    "lines = [\"This is written using writelines().\\n\", \"Each string in the list is written as a line.\\n\"]\n",
    "with open(\"example2.txt\", \"w\") as file:\n",
    "    file.writelines(lines)\n"
   ]
  },
  {
   "cell_type": "code",
   "execution_count": null,
   "id": "f0838eb2-f15c-4567-a88a-1c70f12345a4",
   "metadata": {},
   "outputs": [],
   "source": []
  }
 ],
 "metadata": {
  "kernelspec": {
   "display_name": "Python 3 (ipykernel)",
   "language": "python",
   "name": "python3"
  },
  "language_info": {
   "codemirror_mode": {
    "name": "ipython",
    "version": 3
   },
   "file_extension": ".py",
   "mimetype": "text/x-python",
   "name": "python",
   "nbconvert_exporter": "python",
   "pygments_lexer": "ipython3",
   "version": "3.11.7"
  }
 },
 "nbformat": 4,
 "nbformat_minor": 5
}
